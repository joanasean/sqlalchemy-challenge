{
 "cells": [
  {
   "cell_type": "code",
   "execution_count": 29,
   "metadata": {},
   "outputs": [],
   "source": [
    "%matplotlib inline\n",
    "from matplotlib import style\n",
    "style.use('fivethirtyeight')\n",
    "import matplotlib.pyplot as plt"
   ]
  },
  {
   "cell_type": "code",
   "execution_count": 30,
   "metadata": {},
   "outputs": [],
   "source": [
    "import numpy as np\n",
    "import pandas as pd"
   ]
  },
  {
   "cell_type": "code",
   "execution_count": 31,
   "metadata": {},
   "outputs": [],
   "source": [
    "import datetime as dt"
   ]
  },
  {
   "cell_type": "code",
   "execution_count": 1,
   "metadata": {},
   "outputs": [],
   "source": [
    "from flask import Flask, jsonify"
   ]
  },
  {
   "cell_type": "markdown",
   "metadata": {},
   "source": [
    "# Reflect Tables into SQLAlchemy ORM"
   ]
  },
  {
   "cell_type": "code",
   "execution_count": 32,
   "metadata": {},
   "outputs": [],
   "source": [
    "# Python SQL toolkit and Object Relational Mapper\n",
    "import sqlalchemy\n",
    "from sqlalchemy.ext.automap import automap_base\n",
    "from sqlalchemy.orm import Session\n",
    "from sqlalchemy import create_engine, func"
   ]
  },
  {
   "cell_type": "code",
   "execution_count": 33,
   "metadata": {},
   "outputs": [],
   "source": [
    "engine = create_engine(\"sqlite:///Resources/hawaii.sqlite\")"
   ]
  },
  {
   "cell_type": "code",
   "execution_count": 34,
   "metadata": {},
   "outputs": [],
   "source": [
    "# reflect an existing database into a new model\n",
    "Base = automap_base()\n",
    "# reflect the tables\n",
    "Base.prepare(engine, reflect=True)"
   ]
  },
  {
   "cell_type": "code",
   "execution_count": 35,
   "metadata": {},
   "outputs": [
    {
     "data": {
      "text/plain": [
       "['measurement', 'station']"
      ]
     },
     "execution_count": 35,
     "metadata": {},
     "output_type": "execute_result"
    }
   ],
   "source": [
    "# We can view all of the classes that automap found\n",
    "Base.classes.keys()"
   ]
  },
  {
   "cell_type": "code",
   "execution_count": 36,
   "metadata": {},
   "outputs": [],
   "source": [
    "# Save references to each table\n",
    "Measurement = Base.classes.measurement\n",
    "Station = Base.classes.station"
   ]
  },
  {
   "cell_type": "code",
   "execution_count": 37,
   "metadata": {},
   "outputs": [],
   "source": [
    "# Create our session (link) from Python to the DB\n",
    "session = Session(engine)"
   ]
  },
  {
   "cell_type": "markdown",
   "metadata": {},
   "source": [
    "# Exploratory Climate Analysis"
   ]
  },
  {
   "cell_type": "code",
   "execution_count": 71,
   "metadata": {},
   "outputs": [],
   "source": [
    "#Query for latest date\n",
    "  \n",
    "latest_date = session.query(Measurement.date).order_by(Measurement.date.desc()).first()\n",
    "latest_date\n",
    "#output: ('2017-08-23')\n",
    "\n",
    "# Design a query to retrieve the last 12 months of precipitation data and plot the results\n",
    "\n",
    "oneyearbefore = dt.datetime(2016,8,23)\n",
    "#Variable oneyearbefore created in lieu of dt.timedelta(days=365) function\n",
    "\n",
    "precip_results = session.query(Measurement).\\\n",
    "            filter(Measurement.date > oneyearbefore).all()\n",
    "\n",
    "#list comprehension of date and level\n",
    "precip_date = [p.date for p in precip_results]\n",
    "precip_level = [p.prcp for p in precip_results]\n",
    "\n"
   ]
  },
  {
   "cell_type": "code",
   "execution_count": 73,
   "metadata": {},
   "outputs": [
    {
     "data": {
      "text/html": [
       "<div>\n",
       "<style scoped>\n",
       "    .dataframe tbody tr th:only-of-type {\n",
       "        vertical-align: middle;\n",
       "    }\n",
       "\n",
       "    .dataframe tbody tr th {\n",
       "        vertical-align: top;\n",
       "    }\n",
       "\n",
       "    .dataframe thead th {\n",
       "        text-align: right;\n",
       "    }\n",
       "</style>\n",
       "<table border=\"1\" class=\"dataframe\">\n",
       "  <thead>\n",
       "    <tr style=\"text-align: right;\">\n",
       "      <th></th>\n",
       "      <th>level</th>\n",
       "    </tr>\n",
       "    <tr>\n",
       "      <th>date</th>\n",
       "      <th></th>\n",
       "    </tr>\n",
       "  </thead>\n",
       "  <tbody>\n",
       "    <tr>\n",
       "      <td>2016-08-24</td>\n",
       "      <td>0.08</td>\n",
       "    </tr>\n",
       "    <tr>\n",
       "      <td>2016-08-25</td>\n",
       "      <td>0.08</td>\n",
       "    </tr>\n",
       "    <tr>\n",
       "      <td>2016-08-26</td>\n",
       "      <td>0.00</td>\n",
       "    </tr>\n",
       "    <tr>\n",
       "      <td>2016-08-27</td>\n",
       "      <td>0.00</td>\n",
       "    </tr>\n",
       "    <tr>\n",
       "      <td>2016-08-28</td>\n",
       "      <td>0.01</td>\n",
       "    </tr>\n",
       "    <tr>\n",
       "      <td>...</td>\n",
       "      <td>...</td>\n",
       "    </tr>\n",
       "    <tr>\n",
       "      <td>2017-08-19</td>\n",
       "      <td>0.09</td>\n",
       "    </tr>\n",
       "    <tr>\n",
       "      <td>2017-08-20</td>\n",
       "      <td>NaN</td>\n",
       "    </tr>\n",
       "    <tr>\n",
       "      <td>2017-08-21</td>\n",
       "      <td>0.56</td>\n",
       "    </tr>\n",
       "    <tr>\n",
       "      <td>2017-08-22</td>\n",
       "      <td>0.50</td>\n",
       "    </tr>\n",
       "    <tr>\n",
       "      <td>2017-08-23</td>\n",
       "      <td>0.45</td>\n",
       "    </tr>\n",
       "  </tbody>\n",
       "</table>\n",
       "<p>2223 rows × 1 columns</p>\n",
       "</div>"
      ],
      "text/plain": [
       "            level\n",
       "date             \n",
       "2016-08-24   0.08\n",
       "2016-08-25   0.08\n",
       "2016-08-26   0.00\n",
       "2016-08-27   0.00\n",
       "2016-08-28   0.01\n",
       "...           ...\n",
       "2017-08-19   0.09\n",
       "2017-08-20    NaN\n",
       "2017-08-21   0.56\n",
       "2017-08-22   0.50\n",
       "2017-08-23   0.45\n",
       "\n",
       "[2223 rows x 1 columns]"
      ]
     },
     "execution_count": 73,
     "metadata": {},
     "output_type": "execute_result"
    }
   ],
   "source": [
    "#dataframe\n",
    "d = {'date':precip_date,'level':precip_level}\n",
    "\n",
    "df = pd.DataFrame(data = d)\n",
    "df.set_index('date')"
   ]
  },
  {
   "cell_type": "code",
   "execution_count": 79,
   "metadata": {
    "scrolled": true
   },
   "outputs": [
    {
     "data": {
      "text/plain": [
       "<matplotlib.axes._subplots.AxesSubplot at 0x129db3e10>"
      ]
     },
     "execution_count": 79,
     "metadata": {},
     "output_type": "execute_result"
    },
    {
     "data": {
      "image/png": "[encoded data removed]",
      "text/plain": [
       "<Figure size 432x288 with 1 Axes>"
      ]
     },
     "metadata": {},
     "output_type": "display_data"
    }
   ],
   "source": [
    "df.plot.bar(rot=0)"
   ]
  },
  {
   "cell_type": "code",
   "execution_count": 1,
   "metadata": {},
   "outputs": [],
   "source": [
    "# Design a query to retrieve the last 12 months of precipitation data and plot the results\n",
    "\n",
    "# Calculate the date 1 year ago from the last data point in the database\n",
    "\n",
    "# Perform a query to retrieve the data and precipitation scores\n",
    "\n",
    "# Save the query results as a Pandas DataFrame and set the index to the date column\n",
    "\n",
    "# Sort the dataframe by date\n",
    "\n",
    "# Use Pandas Plotting with Matplotlib to plot the data\n"
   ]
  },
  {
   "cell_type": "markdown",
   "metadata": {},
   "source": [
    "![precipitation](Images/precipitation.png)"
   ]
  },
  {
   "cell_type": "code",
   "execution_count": 88,
   "metadata": {},
   "outputs": [
    {
     "data": {
      "text/plain": [
       "2015"
      ]
     },
     "execution_count": 88,
     "metadata": {},
     "output_type": "execute_result"
    }
   ],
   "source": [
    "df['level'].count()"
   ]
  },
  {
   "cell_type": "code",
   "execution_count": 89,
   "metadata": {
    "scrolled": true
   },
   "outputs": [
    {
     "data": {
      "text/html": [
       "<div>\n",
       "<style scoped>\n",
       "    .dataframe tbody tr th:only-of-type {\n",
       "        vertical-align: middle;\n",
       "    }\n",
       "\n",
       "    .dataframe tbody tr th {\n",
       "        vertical-align: top;\n",
       "    }\n",
       "\n",
       "    .dataframe thead th {\n",
       "        text-align: right;\n",
       "    }\n",
       "</style>\n",
       "<table border=\"1\" class=\"dataframe\">\n",
       "  <thead>\n",
       "    <tr style=\"text-align: right;\">\n",
       "      <th></th>\n",
       "      <th>precipitation</th>\n",
       "    </tr>\n",
       "  </thead>\n",
       "  <tbody>\n",
       "    <tr>\n",
       "      <td>count</td>\n",
       "      <td>2015.000000</td>\n",
       "    </tr>\n",
       "    <tr>\n",
       "      <td>mean</td>\n",
       "      <td>0.176462</td>\n",
       "    </tr>\n",
       "    <tr>\n",
       "      <td>std</td>\n",
       "      <td>0.460288</td>\n",
       "    </tr>\n",
       "    <tr>\n",
       "      <td>min</td>\n",
       "      <td>0.000000</td>\n",
       "    </tr>\n",
       "    <tr>\n",
       "      <td>25%</td>\n",
       "      <td>0.000000</td>\n",
       "    </tr>\n",
       "    <tr>\n",
       "      <td>50%</td>\n",
       "      <td>0.020000</td>\n",
       "    </tr>\n",
       "    <tr>\n",
       "      <td>75%</td>\n",
       "      <td>0.130000</td>\n",
       "    </tr>\n",
       "    <tr>\n",
       "      <td>max</td>\n",
       "      <td>6.700000</td>\n",
       "    </tr>\n",
       "  </tbody>\n",
       "</table>\n",
       "</div>"
      ],
      "text/plain": [
       "       precipitation\n",
       "count    2015.000000\n",
       "mean        0.176462\n",
       "std         0.460288\n",
       "min         0.000000\n",
       "25%         0.000000\n",
       "50%         0.020000\n",
       "75%         0.130000\n",
       "max         6.700000"
      ]
     },
     "execution_count": 89,
     "metadata": {},
     "output_type": "execute_result"
    }
   ],
   "source": [
    "# Use Pandas to calcualte the summary statistics for the precipitation data\n",
    "count = df['level'].count()\n",
    "mean = df['level'].mean()\n",
    "std = df['level'].std()\n",
    "min_ = df['level'].min()\n",
    "twenty_five = df['level'].quantile(.25)\n",
    "fifty = df['level'].quantile(.50)\n",
    "seventy_five = df['level'].quantile(.75)\n",
    "max_ = df['level'].max()\n",
    "\n",
    "summary_df = pd.DataFrame({'precipitation': [count,mean,std,min_,twenty_five,fifty,seventy_five,max_]},\n",
    "                          index = ['count','mean','std','min','25%','50%','75%','max'])\n",
    "summary_df"
   ]
  },
  {
   "cell_type": "code",
   "execution_count": 104,
   "metadata": {},
   "outputs": [
    {
     "data": {
      "text/plain": [
       "[9]"
      ]
     },
     "execution_count": 104,
     "metadata": {},
     "output_type": "execute_result"
    }
   ],
   "source": [
    "# Design a query to show how many stations are available in this dataset?\n",
    "from sqlalchemy import distinct\n",
    "distinct_station = session.query(Measurement.station).distinct().count()\n",
    "[distinct_station]"
   ]
  },
  {
   "cell_type": "code",
   "execution_count": 139,
   "metadata": {
    "scrolled": false
   },
   "outputs": [
    {
     "data": {
      "text/plain": [
       "[('USC00519281', 2772),\n",
       " ('USC00519397', 2724),\n",
       " ('USC00513117', 2709),\n",
       " ('USC00519523', 2669),\n",
       " ('USC00516128', 2612),\n",
       " ('USC00514830', 2202),\n",
       " ('USC00511918', 1979),\n",
       " ('USC00517948', 1372),\n",
       " ('USC00518838', 511)]"
      ]
     },
     "execution_count": 139,
     "metadata": {},
     "output_type": "execute_result"
    }
   ],
   "source": [
    "# What are the most active stations? (i.e. what stations have the most rows)?\n",
    "# List the stations and the counts in descending order.\n",
    "\n",
    "unique_stations = session.query(Measurement.station,func.count(Measurement.station)).group_by(Measurement.station).order_by(func.count(Measurement.station).desc()).all()\n",
    "unique_stations"
   ]
  },
  {
   "cell_type": "code",
   "execution_count": 149,
   "metadata": {},
   "outputs": [
    {
     "data": {
      "text/plain": [
       "[(54.0, 85.0, 71.66378066378067)]"
      ]
     },
     "execution_count": 149,
     "metadata": {},
     "output_type": "execute_result"
    }
   ],
   "source": [
    "# Using the station id from the previous query, calculate the lowest temperature recorded, \n",
    "# highest temperature recorded, and average temperature of the most active station?\n",
    "session.query(func.min(Measurement.tobs),func.max(Measurement.tobs),func.avg(Measurement.tobs)).filter(Measurement.station == 'USC00519281').all()"
   ]
  },
  {
   "cell_type": "code",
   "execution_count": 159,
   "metadata": {},
   "outputs": [
    {
     "data": {
      "text/plain": [
       "[('USC00519281', 79.0, '2016-08-19'),\n",
       " ('USC00519281', 81.0, '2016-08-20'),\n",
       " ('USC00519281', 79.0, '2016-08-21'),\n",
       " ('USC00519281', 78.0, '2016-08-22'),\n",
       " ('USC00519281', 77.0, '2016-08-23'),\n",
       " ('USC00519281', 77.0, '2016-08-24'),\n",
       " ('USC00519281', 80.0, '2016-08-25'),\n",
       " ('USC00519281', 80.0, '2016-08-26'),\n",
       " ('USC00519281', 75.0, '2016-08-27'),\n",
       " ('USC00519281', 73.0, '2016-08-28'),\n",
       " ('USC00519281', 78.0, '2016-08-29'),\n",
       " ('USC00519281', 77.0, '2016-08-30'),\n",
       " ('USC00519281', 78.0, '2016-08-31'),\n",
       " ('USC00519281', 80.0, '2016-09-01'),\n",
       " ('USC00519281', 80.0, '2016-09-02'),\n",
       " ('USC00519281', 78.0, '2016-09-03'),\n",
       " ('USC00519281', 78.0, '2016-09-04'),\n",
       " ('USC00519281', 78.0, '2016-09-05'),\n",
       " ('USC00519281', 73.0, '2016-09-06'),\n",
       " ('USC00519281', 74.0, '2016-09-07'),\n",
       " ('USC00519281', 80.0, '2016-09-08'),\n",
       " ('USC00519281', 79.0, '2016-09-09'),\n",
       " ('USC00519281', 77.0, '2016-09-10'),\n",
       " ('USC00519281', 80.0, '2016-09-11'),\n",
       " ('USC00519281', 76.0, '2016-09-12'),\n",
       " ('USC00519281', 79.0, '2016-09-13'),\n",
       " ('USC00519281', 75.0, '2016-09-14'),\n",
       " ('USC00519281', 79.0, '2016-09-15'),\n",
       " ('USC00519281', 78.0, '2016-09-16'),\n",
       " ('USC00519281', 79.0, '2016-09-17'),\n",
       " ('USC00519281', 78.0, '2016-09-18'),\n",
       " ('USC00519281', 78.0, '2016-09-19'),\n",
       " ('USC00519281', 76.0, '2016-09-20'),\n",
       " ('USC00519281', 74.0, '2016-09-21'),\n",
       " ('USC00519281', 77.0, '2016-09-22'),\n",
       " ('USC00519281', 78.0, '2016-09-23'),\n",
       " ('USC00519281', 79.0, '2016-09-24'),\n",
       " ('USC00519281', 79.0, '2016-09-25'),\n",
       " ('USC00519281', 77.0, '2016-09-26'),\n",
       " ('USC00519281', 80.0, '2016-09-27'),\n",
       " ('USC00519281', 78.0, '2016-09-28'),\n",
       " ('USC00519281', 78.0, '2016-09-29'),\n",
       " ('USC00519281', 78.0, '2016-09-30'),\n",
       " ('USC00519281', 77.0, '2016-10-01'),\n",
       " ('USC00519281', 79.0, '2016-10-02'),\n",
       " ('USC00519281', 79.0, '2016-10-03'),\n",
       " ('USC00519281', 79.0, '2016-10-04'),\n",
       " ('USC00519281', 79.0, '2016-10-05'),\n",
       " ('USC00519281', 75.0, '2016-10-06'),\n",
       " ('USC00519281', 76.0, '2016-10-07'),\n",
       " ('USC00519281', 73.0, '2016-10-08'),\n",
       " ('USC00519281', 72.0, '2016-10-09'),\n",
       " ('USC00519281', 71.0, '2016-10-10'),\n",
       " ('USC00519281', 77.0, '2016-10-11'),\n",
       " ('USC00519281', 79.0, '2016-10-12'),\n",
       " ('USC00519281', 78.0, '2016-10-13'),\n",
       " ('USC00519281', 79.0, '2016-10-14'),\n",
       " ('USC00519281', 77.0, '2016-10-15'),\n",
       " ('USC00519281', 79.0, '2016-10-16'),\n",
       " ('USC00519281', 77.0, '2016-10-17'),\n",
       " ('USC00519281', 78.0, '2016-10-18'),\n",
       " ('USC00519281', 78.0, '2016-10-19'),\n",
       " ('USC00519281', 78.0, '2016-10-20'),\n",
       " ('USC00519281', 78.0, '2016-10-21'),\n",
       " ('USC00519281', 77.0, '2016-10-22'),\n",
       " ('USC00519281', 74.0, '2016-10-23'),\n",
       " ('USC00519281', 75.0, '2016-10-24'),\n",
       " ('USC00519281', 76.0, '2016-10-25'),\n",
       " ('USC00519281', 73.0, '2016-10-26'),\n",
       " ('USC00519281', 76.0, '2016-10-27'),\n",
       " ('USC00519281', 74.0, '2016-10-28'),\n",
       " ('USC00519281', 77.0, '2016-10-29'),\n",
       " ('USC00519281', 76.0, '2016-10-30'),\n",
       " ('USC00519281', 76.0, '2016-10-31'),\n",
       " ('USC00519281', 74.0, '2016-11-01'),\n",
       " ('USC00519281', 75.0, '2016-11-02'),\n",
       " ('USC00519281', 75.0, '2016-11-03'),\n",
       " ('USC00519281', 75.0, '2016-11-04'),\n",
       " ('USC00519281', 75.0, '2016-11-05'),\n",
       " ('USC00519281', 71.0, '2016-11-06'),\n",
       " ('USC00519281', 63.0, '2016-11-07'),\n",
       " ('USC00519281', 70.0, '2016-11-08'),\n",
       " ('USC00519281', 68.0, '2016-11-09'),\n",
       " ('USC00519281', 67.0, '2016-11-10'),\n",
       " ('USC00519281', 77.0, '2016-11-11'),\n",
       " ('USC00519281', 74.0, '2016-11-12'),\n",
       " ('USC00519281', 77.0, '2016-11-13'),\n",
       " ('USC00519281', 76.0, '2016-11-14'),\n",
       " ('USC00519281', 76.0, '2016-11-15'),\n",
       " ('USC00519281', 75.0, '2016-11-16'),\n",
       " ('USC00519281', 76.0, '2016-11-17'),\n",
       " ('USC00519281', 75.0, '2016-11-18'),\n",
       " ('USC00519281', 73.0, '2016-11-19'),\n",
       " ('USC00519281', 75.0, '2016-11-20'),\n",
       " ('USC00519281', 73.0, '2016-11-21'),\n",
       " ('USC00519281', 75.0, '2016-11-22'),\n",
       " ('USC00519281', 74.0, '2016-11-23'),\n",
       " ('USC00519281', 75.0, '2016-11-24'),\n",
       " ('USC00519281', 74.0, '2016-11-25'),\n",
       " ('USC00519281', 75.0, '2016-11-26'),\n",
       " ('USC00519281', 73.0, '2016-11-27'),\n",
       " ('USC00519281', 75.0, '2016-11-28'),\n",
       " ('USC00519281', 73.0, '2016-11-29'),\n",
       " ('USC00519281', 73.0, '2016-11-30'),\n",
       " ('USC00519281', 74.0, '2016-12-01'),\n",
       " ('USC00519281', 70.0, '2016-12-02'),\n",
       " ('USC00519281', 72.0, '2016-12-03'),\n",
       " ('USC00519281', 70.0, '2016-12-04'),\n",
       " ('USC00519281', 67.0, '2016-12-05'),\n",
       " ('USC00519281', 67.0, '2016-12-06'),\n",
       " ('USC00519281', 69.0, '2016-12-07'),\n",
       " ('USC00519281', 70.0, '2016-12-08'),\n",
       " ('USC00519281', 68.0, '2016-12-09'),\n",
       " ('USC00519281', 69.0, '2016-12-10'),\n",
       " ('USC00519281', 69.0, '2016-12-11'),\n",
       " ('USC00519281', 66.0, '2016-12-12'),\n",
       " ('USC00519281', 65.0, '2016-12-13'),\n",
       " ('USC00519281', 68.0, '2016-12-14'),\n",
       " ('USC00519281', 62.0, '2016-12-15'),\n",
       " ('USC00519281', 75.0, '2016-12-16'),\n",
       " ('USC00519281', 70.0, '2016-12-17'),\n",
       " ('USC00519281', 69.0, '2016-12-18'),\n",
       " ('USC00519281', 76.0, '2016-12-19'),\n",
       " ('USC00519281', 76.0, '2016-12-20'),\n",
       " ('USC00519281', 74.0, '2016-12-21'),\n",
       " ('USC00519281', 73.0, '2016-12-22'),\n",
       " ('USC00519281', 71.0, '2016-12-23'),\n",
       " ('USC00519281', 74.0, '2016-12-24'),\n",
       " ('USC00519281', 74.0, '2016-12-25'),\n",
       " ('USC00519281', 72.0, '2016-12-26'),\n",
       " ('USC00519281', 71.0, '2016-12-27'),\n",
       " ('USC00519281', 72.0, '2016-12-28'),\n",
       " ('USC00519281', 74.0, '2016-12-29'),\n",
       " ('USC00519281', 69.0, '2016-12-30'),\n",
       " ('USC00519281', 67.0, '2016-12-31'),\n",
       " ('USC00519281', 72.0, '2017-01-01'),\n",
       " ('USC00519281', 70.0, '2017-01-02'),\n",
       " ('USC00519281', 64.0, '2017-01-03'),\n",
       " ('USC00519281', 63.0, '2017-01-04'),\n",
       " ('USC00519281', 63.0, '2017-01-05'),\n",
       " ('USC00519281', 62.0, '2017-01-06'),\n",
       " ('USC00519281', 70.0, '2017-01-07'),\n",
       " ('USC00519281', 70.0, '2017-01-08'),\n",
       " ('USC00519281', 62.0, '2017-01-09'),\n",
       " ('USC00519281', 62.0, '2017-01-10'),\n",
       " ('USC00519281', 63.0, '2017-01-11'),\n",
       " ('USC00519281', 65.0, '2017-01-12'),\n",
       " ('USC00519281', 69.0, '2017-01-13'),\n",
       " ('USC00519281', 77.0, '2017-01-14'),\n",
       " ('USC00519281', 70.0, '2017-01-15'),\n",
       " ('USC00519281', 74.0, '2017-01-16'),\n",
       " ('USC00519281', 69.0, '2017-01-17'),\n",
       " ('USC00519281', 72.0, '2017-01-18'),\n",
       " ('USC00519281', 71.0, '2017-01-19'),\n",
       " ('USC00519281', 69.0, '2017-01-20'),\n",
       " ('USC00519281', 71.0, '2017-01-21'),\n",
       " ('USC00519281', 71.0, '2017-01-22'),\n",
       " ('USC00519281', 72.0, '2017-01-23'),\n",
       " ('USC00519281', 72.0, '2017-01-24'),\n",
       " ('USC00519281', 69.0, '2017-01-25'),\n",
       " ('USC00519281', 70.0, '2017-01-26'),\n",
       " ('USC00519281', 66.0, '2017-01-27'),\n",
       " ('USC00519281', 65.0, '2017-01-28'),\n",
       " ('USC00519281', 69.0, '2017-01-29'),\n",
       " ('USC00519281', 68.0, '2017-01-30'),\n",
       " ('USC00519281', 68.0, '2017-01-31'),\n",
       " ('USC00519281', 68.0, '2017-02-01'),\n",
       " ('USC00519281', 59.0, '2017-02-02'),\n",
       " ('USC00519281', 60.0, '2017-02-03'),\n",
       " ('USC00519281', 70.0, '2017-02-04'),\n",
       " ('USC00519281', 73.0, '2017-02-05'),\n",
       " ('USC00519281', 75.0, '2017-02-06'),\n",
       " ('USC00519281', 64.0, '2017-02-07'),\n",
       " ('USC00519281', 59.0, '2017-02-08'),\n",
       " ('USC00519281', 59.0, '2017-02-09'),\n",
       " ('USC00519281', 62.0, '2017-02-10'),\n",
       " ('USC00519281', 68.0, '2017-02-11'),\n",
       " ('USC00519281', 70.0, '2017-02-12'),\n",
       " ('USC00519281', 73.0, '2017-02-13'),\n",
       " ('USC00519281', 79.0, '2017-02-14'),\n",
       " ('USC00519281', 75.0, '2017-02-15'),\n",
       " ('USC00519281', 65.0, '2017-02-16'),\n",
       " ('USC00519281', 70.0, '2017-02-17'),\n",
       " ('USC00519281', 74.0, '2017-02-18'),\n",
       " ('USC00519281', 70.0, '2017-02-19'),\n",
       " ('USC00519281', 70.0, '2017-02-20'),\n",
       " ('USC00519281', 71.0, '2017-02-21'),\n",
       " ('USC00519281', 71.0, '2017-02-22'),\n",
       " ('USC00519281', 71.0, '2017-02-23'),\n",
       " ('USC00519281', 69.0, '2017-02-24'),\n",
       " ('USC00519281', 61.0, '2017-02-25'),\n",
       " ('USC00519281', 67.0, '2017-02-26'),\n",
       " ('USC00519281', 65.0, '2017-02-27'),\n",
       " ('USC00519281', 72.0, '2017-02-28'),\n",
       " ('USC00519281', 71.0, '2017-03-01'),\n",
       " ('USC00519281', 73.0, '2017-03-02'),\n",
       " ('USC00519281', 72.0, '2017-03-03'),\n",
       " ('USC00519281', 77.0, '2017-03-04'),\n",
       " ('USC00519281', 73.0, '2017-03-05'),\n",
       " ('USC00519281', 67.0, '2017-03-06'),\n",
       " ('USC00519281', 62.0, '2017-03-07'),\n",
       " ('USC00519281', 64.0, '2017-03-08'),\n",
       " ('USC00519281', 67.0, '2017-03-09'),\n",
       " ('USC00519281', 66.0, '2017-03-10'),\n",
       " ('USC00519281', 81.0, '2017-03-11'),\n",
       " ('USC00519281', 69.0, '2017-03-12'),\n",
       " ('USC00519281', 66.0, '2017-03-13'),\n",
       " ('USC00519281', 67.0, '2017-03-14'),\n",
       " ('USC00519281', 69.0, '2017-03-15'),\n",
       " ('USC00519281', 66.0, '2017-03-16'),\n",
       " ('USC00519281', 68.0, '2017-03-17'),\n",
       " ('USC00519281', 65.0, '2017-03-18'),\n",
       " ('USC00519281', 74.0, '2017-03-19'),\n",
       " ('USC00519281', 69.0, '2017-03-20'),\n",
       " ('USC00519281', 72.0, '2017-03-21'),\n",
       " ('USC00519281', 73.0, '2017-03-22'),\n",
       " ('USC00519281', 72.0, '2017-03-23'),\n",
       " ('USC00519281', 71.0, '2017-03-24'),\n",
       " ('USC00519281', 76.0, '2017-03-25'),\n",
       " ('USC00519281', 77.0, '2017-03-26'),\n",
       " ('USC00519281', 76.0, '2017-03-27'),\n",
       " ('USC00519281', 74.0, '2017-03-28'),\n",
       " ('USC00519281', 68.0, '2017-03-29'),\n",
       " ('USC00519281', 73.0, '2017-03-30'),\n",
       " ('USC00519281', 71.0, '2017-03-31'),\n",
       " ('USC00519281', 74.0, '2017-04-01'),\n",
       " ('USC00519281', 75.0, '2017-04-02'),\n",
       " ('USC00519281', 70.0, '2017-04-03'),\n",
       " ('USC00519281', 67.0, '2017-04-04'),\n",
       " ('USC00519281', 71.0, '2017-04-05'),\n",
       " ('USC00519281', 67.0, '2017-04-06'),\n",
       " ('USC00519281', 74.0, '2017-04-07'),\n",
       " ('USC00519281', 77.0, '2017-04-08'),\n",
       " ('USC00519281', 78.0, '2017-04-09'),\n",
       " ('USC00519281', 67.0, '2017-04-10'),\n",
       " ('USC00519281', 70.0, '2017-04-11'),\n",
       " ('USC00519281', 69.0, '2017-04-12'),\n",
       " ('USC00519281', 69.0, '2017-04-13'),\n",
       " ('USC00519281', 74.0, '2017-04-14'),\n",
       " ('USC00519281', 78.0, '2017-04-15'),\n",
       " ('USC00519281', 71.0, '2017-04-16'),\n",
       " ('USC00519281', 67.0, '2017-04-17'),\n",
       " ('USC00519281', 68.0, '2017-04-18'),\n",
       " ('USC00519281', 67.0, '2017-04-19'),\n",
       " ('USC00519281', 76.0, '2017-04-20'),\n",
       " ('USC00519281', 69.0, '2017-04-21'),\n",
       " ('USC00519281', 72.0, '2017-04-22'),\n",
       " ('USC00519281', 76.0, '2017-04-23'),\n",
       " ('USC00519281', 68.0, '2017-04-24'),\n",
       " ('USC00519281', 72.0, '2017-04-25'),\n",
       " ('USC00519281', 74.0, '2017-04-26'),\n",
       " ('USC00519281', 70.0, '2017-04-27'),\n",
       " ('USC00519281', 67.0, '2017-04-28'),\n",
       " ('USC00519281', 72.0, '2017-04-29'),\n",
       " ('USC00519281', 60.0, '2017-04-30'),\n",
       " ('USC00519281', 65.0, '2017-05-01'),\n",
       " ('USC00519281', 75.0, '2017-05-02'),\n",
       " ('USC00519281', 70.0, '2017-05-03'),\n",
       " ('USC00519281', 75.0, '2017-05-04'),\n",
       " ('USC00519281', 70.0, '2017-05-05'),\n",
       " ('USC00519281', 79.0, '2017-05-06'),\n",
       " ('USC00519281', 75.0, '2017-05-07'),\n",
       " ('USC00519281', 70.0, '2017-05-08'),\n",
       " ('USC00519281', 67.0, '2017-05-09'),\n",
       " ('USC00519281', 74.0, '2017-05-10'),\n",
       " ('USC00519281', 70.0, '2017-05-11'),\n",
       " ('USC00519281', 75.0, '2017-05-12'),\n",
       " ('USC00519281', 76.0, '2017-05-13'),\n",
       " ('USC00519281', 77.0, '2017-05-14'),\n",
       " ('USC00519281', 74.0, '2017-05-15'),\n",
       " ('USC00519281', 74.0, '2017-05-16'),\n",
       " ('USC00519281', 74.0, '2017-05-17'),\n",
       " ('USC00519281', 69.0, '2017-05-18'),\n",
       " ('USC00519281', 68.0, '2017-05-19'),\n",
       " ('USC00519281', 76.0, '2017-05-20'),\n",
       " ('USC00519281', 74.0, '2017-05-21'),\n",
       " ('USC00519281', 71.0, '2017-05-22'),\n",
       " ('USC00519281', 71.0, '2017-05-23'),\n",
       " ('USC00519281', 74.0, '2017-05-24'),\n",
       " ('USC00519281', 74.0, '2017-05-25'),\n",
       " ('USC00519281', 74.0, '2017-05-26'),\n",
       " ('USC00519281', 74.0, '2017-05-27'),\n",
       " ('USC00519281', 80.0, '2017-05-28'),\n",
       " ('USC00519281', 74.0, '2017-05-29'),\n",
       " ('USC00519281', 72.0, '2017-05-30'),\n",
       " ('USC00519281', 75.0, '2017-05-31'),\n",
       " ('USC00519281', 80.0, '2017-06-01'),\n",
       " ('USC00519281', 76.0, '2017-06-02'),\n",
       " ('USC00519281', 76.0, '2017-06-03'),\n",
       " ('USC00519281', 77.0, '2017-06-04'),\n",
       " ('USC00519281', 75.0, '2017-06-05'),\n",
       " ('USC00519281', 75.0, '2017-06-06'),\n",
       " ('USC00519281', 75.0, '2017-06-07'),\n",
       " ('USC00519281', 75.0, '2017-06-08'),\n",
       " ('USC00519281', 72.0, '2017-06-09'),\n",
       " ('USC00519281', 74.0, '2017-06-10'),\n",
       " ('USC00519281', 74.0, '2017-06-11'),\n",
       " ('USC00519281', 74.0, '2017-06-12'),\n",
       " ('USC00519281', 76.0, '2017-06-13'),\n",
       " ('USC00519281', 74.0, '2017-06-14'),\n",
       " ('USC00519281', 75.0, '2017-06-15'),\n",
       " ('USC00519281', 73.0, '2017-06-16'),\n",
       " ('USC00519281', 79.0, '2017-06-17'),\n",
       " ('USC00519281', 75.0, '2017-06-18'),\n",
       " ('USC00519281', 72.0, '2017-06-19'),\n",
       " ('USC00519281', 72.0, '2017-06-20'),\n",
       " ('USC00519281', 74.0, '2017-06-21'),\n",
       " ('USC00519281', 72.0, '2017-06-22'),\n",
       " ('USC00519281', 72.0, '2017-06-23'),\n",
       " ('USC00519281', 77.0, '2017-06-24'),\n",
       " ('USC00519281', 71.0, '2017-06-25'),\n",
       " ('USC00519281', 73.0, '2017-06-26'),\n",
       " ('USC00519281', 76.0, '2017-06-27'),\n",
       " ('USC00519281', 77.0, '2017-06-28'),\n",
       " ('USC00519281', 76.0, '2017-06-29'),\n",
       " ('USC00519281', 76.0, '2017-06-30'),\n",
       " ('USC00519281', 79.0, '2017-07-01'),\n",
       " ('USC00519281', 81.0, '2017-07-02'),\n",
       " ('USC00519281', 76.0, '2017-07-03'),\n",
       " ('USC00519281', 78.0, '2017-07-04'),\n",
       " ('USC00519281', 77.0, '2017-07-05'),\n",
       " ('USC00519281', 74.0, '2017-07-06'),\n",
       " ('USC00519281', 75.0, '2017-07-07'),\n",
       " ('USC00519281', 78.0, '2017-07-08'),\n",
       " ('USC00519281', 78.0, '2017-07-09'),\n",
       " ('USC00519281', 69.0, '2017-07-10'),\n",
       " ('USC00519281', 72.0, '2017-07-11'),\n",
       " ('USC00519281', 74.0, '2017-07-12'),\n",
       " ('USC00519281', 74.0, '2017-07-13'),\n",
       " ('USC00519281', 76.0, '2017-07-14'),\n",
       " ('USC00519281', 80.0, '2017-07-15'),\n",
       " ('USC00519281', 80.0, '2017-07-16'),\n",
       " ('USC00519281', 76.0, '2017-07-17'),\n",
       " ('USC00519281', 76.0, '2017-07-18'),\n",
       " ('USC00519281', 76.0, '2017-07-19'),\n",
       " ('USC00519281', 77.0, '2017-07-20'),\n",
       " ('USC00519281', 77.0, '2017-07-21'),\n",
       " ('USC00519281', 77.0, '2017-07-22'),\n",
       " ('USC00519281', 82.0, '2017-07-23'),\n",
       " ('USC00519281', 75.0, '2017-07-24'),\n",
       " ('USC00519281', 77.0, '2017-07-25'),\n",
       " ('USC00519281', 75.0, '2017-07-26'),\n",
       " ('USC00519281', 76.0, '2017-07-27'),\n",
       " ('USC00519281', 81.0, '2017-07-28'),\n",
       " ('USC00519281', 82.0, '2017-07-29'),\n",
       " ('USC00519281', 81.0, '2017-07-30'),\n",
       " ('USC00519281', 76.0, '2017-07-31'),\n",
       " ('USC00519281', 77.0, '2017-08-04'),\n",
       " ('USC00519281', 82.0, '2017-08-05'),\n",
       " ('USC00519281', 83.0, '2017-08-06'),\n",
       " ('USC00519281', 77.0, '2017-08-13'),\n",
       " ('USC00519281', 77.0, '2017-08-14'),\n",
       " ('USC00519281', 77.0, '2017-08-15'),\n",
       " ('USC00519281', 76.0, '2017-08-16'),\n",
       " ('USC00519281', 76.0, '2017-08-17'),\n",
       " ('USC00519281', 79.0, '2017-08-18')]"
      ]
     },
     "execution_count": 159,
     "metadata": {},
     "output_type": "execute_result"
    }
   ],
   "source": [
    "# Choose the station with the highest number of temperature observations.\n",
    "latest_date = session.query(Measurement.date).filter(Measurement.station == 'USC00519281').order_by(Measurement.date.desc()).first()\n",
    "latest_date\n",
    "\n",
    "oneyearbefore = dt.datetime(2016,8,18)\n",
    "\n",
    "temp_results = session.query(Measurement.station,Measurement.tobs,Measurement.date).filter(Measurement.date > oneyearbefore).filter(Measurement.station == 'USC00519281').all()\n",
    "temp_results"
   ]
  },
  {
   "cell_type": "code",
   "execution_count": 161,
   "metadata": {},
   "outputs": [
    {
     "data": {
      "image/png": "[encoded data removed]",
      "text/plain": [
       "<Figure size 432x288 with 1 Axes>"
      ]
     },
     "metadata": {},
     "output_type": "display_data"
    }
   ],
   "source": [
    "# Query the last 12 months of temperature observation data for this station and plot the results as a histogram\n",
    "temperature = [t[1] for t in temp_results]\n",
    "plt.hist(temperature)\n",
    "plt.ylabel('Frequency')\n",
    "plt.xlabel('Temperature')\n",
    "plt.legend('tobs')\n",
    "plt.show()"
   ]
  },
  {
   "cell_type": "code",
   "execution_count": 164,
   "metadata": {
    "scrolled": true
   },
   "outputs": [
    {
     "name": "stdout",
     "output_type": "stream",
     "text": [
      "[(62.0, 69.57142857142857, 74.0)]\n"
     ]
    }
   ],
   "source": [
    "# This function called `calc_temps` will accept start date and end date in the format '%Y-%m-%d' \n",
    "# and return the minimum, average, and maximum temperatures for that range of dates\n",
    "def calc_temps(start_date, end_date):\n",
    "    \"\"\"TMIN, TAVG, and TMAX for a list of dates.\n",
    "    \n",
    "    Args:\n",
    "        start_date (string): A date string in the format %Y-%m-%d\n",
    "        end_date (string): A date string in the format %Y-%m-%d\n",
    "        \n",
    "    Returns:\n",
    "        TMIN, TAVE, and TMAX\n",
    "    \"\"\"\n",
    "    \n",
    "    return session.query(func.min(Measurement.tobs), func.avg(Measurement.tobs), func.max(Measurement.tobs)).\\\n",
    "        filter(Measurement.date >= start_date).filter(Measurement.date <= end_date).all()\n",
    "\n",
    "# function usage example\n",
    "print(calc_temps('2012-02-28', '2012-03-05'))"
   ]
  },
  {
   "cell_type": "code",
   "execution_count": 186,
   "metadata": {},
   "outputs": [
    {
     "name": "stdout",
     "output_type": "stream",
     "text": [
      "[(65.0, 72.4, 78.0)]\n"
     ]
    }
   ],
   "source": [
    "# Use your previous function `calc_temps` to calculate the tmin, tavg, and tmax \n",
    "# for your trip using the previous year's data for those same dates.\n",
    "\n",
    "#My trip dates I chose are for the period 04 - 04 - 2017 to 04 - 09 - 2017. \n",
    "print(calc_temps('2016-04-04','2016-04-09'))"
   ]
  },
  {
   "cell_type": "code",
   "execution_count": 188,
   "metadata": {
    "scrolled": false
   },
   "outputs": [
    {
     "data": {
      "image/png": "[encoded data removed]",
      "text/plain": [
       "<Figure size 432x288 with 1 Axes>"
      ]
     },
     "metadata": {},
     "output_type": "display_data"
    }
   ],
   "source": [
    "# Plot the results from your previous query as a bar chart. \n",
    "# Use \"Trip Avg Temp\" as your Title\n",
    "# Use the average temperature for the y value\n",
    "# Use the peak-to-peak (tmax-tmin) value as the y error bar (yerr)\n",
    "error = 78-65\n",
    "x_pos =''\n",
    "y_pos = 72.4\n",
    "fig, ax = plt.subplots()\n",
    "ax.bar(x_pos,y_pos,yerr = error, align='center', alpha=0.5, ecolor='black', capsize=10)\n",
    "ax.set_ylabel('Temp (F)')\n",
    "ax.set_xlabel('')\n",
    "plt.title('Trip Avg Temp')\n",
    "\n",
    "plt.show()"
   ]
  },
  {
   "cell_type": "code",
   "execution_count": 205,
   "metadata": {},
   "outputs": [
    {
     "data": {
      "text/plain": [
       "[('USC00519281',\n",
       "  'WAIHEE 837.5, HI US',\n",
       "  21.45167,\n",
       "  -157.84888999999998,\n",
       "  32.9,\n",
       "  2.31),\n",
       " ('USC00516128',\n",
       "  'MANOA LYON ARBO 785.2, HI US',\n",
       "  21.3331,\n",
       "  -157.8025,\n",
       "  152.4,\n",
       "  2.0100000000000002),\n",
       " ('USC00513117', 'KANEOHE 838.1, HI US', 21.4234, -157.8015, 14.6, 1.1),\n",
       " ('USC00514830',\n",
       "  'KUALOA RANCH HEADQUARTERS 886.9, HI US',\n",
       "  21.5213,\n",
       "  -157.8374,\n",
       "  7.0,\n",
       "  0.32),\n",
       " ('USC00517948', 'PEARL CITY, HI US', 21.3934, -157.9751, 11.9, 0.04),\n",
       " ('USC00519397', 'WAIKIKI 717.2, HI US', 21.2716, -157.8168, 3.0, 0.01),\n",
       " ('USC00519523',\n",
       "  'WAIMANALO EXPERIMENTAL FARM, HI US',\n",
       "  21.33556,\n",
       "  -157.71139,\n",
       "  19.5,\n",
       "  0.0)]"
      ]
     },
     "execution_count": 205,
     "metadata": {},
     "output_type": "execute_result"
    }
   ],
   "source": [
    "# Calculate the total amount of rainfall per weather station for your trip dates using the previous year's matching dates.\n",
    "# Sort this in descending order by precipitation amount and list the station, name, latitude, longitude, and elevation\n",
    "\n",
    "\n",
    "session.query(Measurement.station, Station.name, Station.latitude,Station.longitude,Station.elevation,func.sum(Measurement.prcp)).\\\n",
    "filter(Measurement.date >= '2016-04-04').filter(Measurement.date <= '2016-04-09').filter(Measurement.station == Station.station).group_by(Measurement.station).order_by(func.sum(Measurement.prcp).desc()).all()\n",
    "\n"
   ]
  },
  {
   "cell_type": "markdown",
   "metadata": {},
   "source": [
    "## Optional Challenge Assignment"
   ]
  },
  {
   "cell_type": "code",
   "execution_count": 206,
   "metadata": {},
   "outputs": [
    {
     "data": {
      "text/plain": [
       "[(62.0, 69.15384615384616, 77.0)]"
      ]
     },
     "execution_count": 206,
     "metadata": {},
     "output_type": "execute_result"
    }
   ],
   "source": [
    "# Create a query that will calculate the daily normals \n",
    "# (i.e. the averages for tmin, tmax, and tavg for all historic data matching a specific month and day)\n",
    "\n",
    "def daily_normals(date):\n",
    "    \"\"\"Daily Normals.\n",
    "    \n",
    "    Args:\n",
    "        date (str): A date string in the format '%m-%d'\n",
    "        \n",
    "    Returns:\n",
    "        A list of tuples containing the daily normals, tmin, tavg, and tmax\n",
    "    \n",
    "    \"\"\"\n",
    "    \n",
    "    sel = [func.min(Measurement.tobs), func.avg(Measurement.tobs), func.max(Measurement.tobs)]\n",
    "    return session.query(*sel).filter(func.strftime(\"%m-%d\", Measurement.date) == date).all()\n",
    "    \n",
    "daily_normals(\"01-01\")"
   ]
  },
  {
   "cell_type": "code",
   "execution_count": 225,
   "metadata": {
    "scrolled": true
   },
   "outputs": [
    {
     "data": {
      "text/plain": [
       "['04-04', '04-05', '04-06', '04-07', '04-08', '04-09']"
      ]
     },
     "execution_count": 225,
     "metadata": {},
     "output_type": "execute_result"
    }
   ],
   "source": [
    "#create a list of my travel dates\n",
    "list = []\n",
    "x = 4\n",
    "while x < 10:\n",
    "    list.append(f'04-0{x}')\n",
    "    x += 1\n",
    "list\n"
   ]
  },
  {
   "cell_type": "code",
   "execution_count": 226,
   "metadata": {
    "scrolled": true
   },
   "outputs": [
    {
     "data": {
      "text/plain": [
       "[(58.0, 72.01639344262296, 78.0),\n",
       " (61.0, 72.28813559322033, 80.0),\n",
       " (67.0, 71.57142857142857, 77.0),\n",
       " (63.0, 71.10526315789474, 78.0),\n",
       " (66.0, 72.10526315789474, 77.0),\n",
       " (62.0, 71.6140350877193, 78.0)]"
      ]
     },
     "execution_count": 226,
     "metadata": {},
     "output_type": "execute_result"
    }
   ],
   "source": [
    "#list comprehension\n",
    "normals = [daily_normals(i)[0] for i in list]\n",
    "normals"
   ]
  },
  {
   "cell_type": "code",
   "execution_count": 238,
   "metadata": {
    "scrolled": true
   },
   "outputs": [
    {
     "data": {
      "text/html": [
       "<div>\n",
       "<style scoped>\n",
       "    .dataframe tbody tr th:only-of-type {\n",
       "        vertical-align: middle;\n",
       "    }\n",
       "\n",
       "    .dataframe tbody tr th {\n",
       "        vertical-align: top;\n",
       "    }\n",
       "\n",
       "    .dataframe thead th {\n",
       "        text-align: right;\n",
       "    }\n",
       "</style>\n",
       "<table border=\"1\" class=\"dataframe\">\n",
       "  <thead>\n",
       "    <tr style=\"text-align: right;\">\n",
       "      <th></th>\n",
       "      <th>tmin</th>\n",
       "      <th>tavg</th>\n",
       "      <th>tmax</th>\n",
       "    </tr>\n",
       "    <tr>\n",
       "      <th>date</th>\n",
       "      <th></th>\n",
       "      <th></th>\n",
       "      <th></th>\n",
       "    </tr>\n",
       "  </thead>\n",
       "  <tbody>\n",
       "    <tr>\n",
       "      <td>2017-04-04</td>\n",
       "      <td>58.0</td>\n",
       "      <td>72.016393</td>\n",
       "      <td>78.0</td>\n",
       "    </tr>\n",
       "    <tr>\n",
       "      <td>2017-04-05</td>\n",
       "      <td>61.0</td>\n",
       "      <td>72.288136</td>\n",
       "      <td>80.0</td>\n",
       "    </tr>\n",
       "    <tr>\n",
       "      <td>2017-04-06</td>\n",
       "      <td>67.0</td>\n",
       "      <td>71.571429</td>\n",
       "      <td>77.0</td>\n",
       "    </tr>\n",
       "    <tr>\n",
       "      <td>2017-04-07</td>\n",
       "      <td>63.0</td>\n",
       "      <td>71.105263</td>\n",
       "      <td>78.0</td>\n",
       "    </tr>\n",
       "    <tr>\n",
       "      <td>2017-04-08</td>\n",
       "      <td>66.0</td>\n",
       "      <td>72.105263</td>\n",
       "      <td>77.0</td>\n",
       "    </tr>\n",
       "    <tr>\n",
       "      <td>2017-04-09</td>\n",
       "      <td>62.0</td>\n",
       "      <td>71.614035</td>\n",
       "      <td>78.0</td>\n",
       "    </tr>\n",
       "  </tbody>\n",
       "</table>\n",
       "</div>"
      ],
      "text/plain": [
       "            tmin       tavg  tmax\n",
       "date                             \n",
       "2017-04-04  58.0  72.016393  78.0\n",
       "2017-04-05  61.0  72.288136  80.0\n",
       "2017-04-06  67.0  71.571429  77.0\n",
       "2017-04-07  63.0  71.105263  78.0\n",
       "2017-04-08  66.0  72.105263  77.0\n",
       "2017-04-09  62.0  71.614035  78.0"
      ]
     },
     "execution_count": 238,
     "metadata": {},
     "output_type": "execute_result"
    }
   ],
   "source": [
    "# Load the previous query results into a Pandas DataFrame and add the `trip_dates` range as the `date` index\n",
    "\n",
    "tripdates = [('2017-' + i)for i in list]\n",
    "tmin = [n[0] for n in normals]\n",
    "tavg = [n[1] for n in normals]\n",
    "tmax = [n[2] for n in normals]\n",
    "\n",
    "df_normals = pd.DataFrame({'tmin':tmin,'tavg':tavg,'tmax':tmax},index=tripdates)\n",
    "df_normals.index.name = 'date'\n",
    "df_normals"
   ]
  },
  {
   "cell_type": "code",
   "execution_count": 242,
   "metadata": {
    "scrolled": true
   },
   "outputs": [
    {
     "data": {
      "image/png": "[encoded data removed]",
      "text/plain": [
       "<Figure size 432x288 with 1 Axes>"
      ]
     },
     "metadata": {},
     "output_type": "display_data"
    }
   ],
   "source": [
    "# Plot the daily normals as an area plot with `stacked=False`\n",
    "df_normals.plot.area(stacked=False)\n",
    "plt.xticks(rotation=45)\n",
    "plt.show()"
   ]
  },
  {
   "cell_type": "code",
   "execution_count": 2,
   "metadata": {},
   "outputs": [],
   "source": [
    "#################################################\n",
    "# Flask Setup\n",
    "#################################################\n",
    "app = Flask(__name__)"
   ]
  },
  {
   "cell_type": "code",
   "execution_count": null,
   "metadata": {},
   "outputs": [],
   "source": []
  }
 ],
 "metadata": {
  "kernel_info": {
   "name": "python3"
  },
  "kernelspec": {
   "display_name": "Python 3",
   "language": "python",
   "name": "python3"
  },
  "language_info": {
   "codemirror_mode": {
    "name": "ipython",
    "version": 3
   },
   "file_extension": ".py",
   "mimetype": "text/x-python",
   "name": "python",
   "nbconvert_exporter": "python",
   "pygments_lexer": "ipython3",
   "version": "3.7.4"
  },
  "nteract": {
   "version": "0.12.3"
  },
  "varInspector": {
   "cols": {
    "lenName": 16,
    "lenType": 16,
    "lenVar": 40
   },
   "kernels_config": {
    "python": {
     "delete_cmd_postfix": "",
     "delete_cmd_prefix": "del ",
     "library": "var_list.py",
     "varRefreshCmd": "print(var_dic_list())"
    },
    "r": {
     "delete_cmd_postfix": ") ",
     "delete_cmd_prefix": "rm(",
     "library": "var_list.r",
     "varRefreshCmd": "cat(var_dic_list()) "
    }
   },
   "types_to_exclude": [
    "module",
    "function",
    "builtin_function_or_method",
    "instance",
    "_Feature"
   ],
   "window_display": false
  }
 },
 "nbformat": 4,
 "nbformat_minor": 2
}
